{
 "cells": [
  {
   "cell_type": "code",
   "execution_count": 15,
   "metadata": {},
   "outputs": [
    {
     "name": "stdout",
     "output_type": "stream",
     "text": [
      "(1, 4)\n",
      "[2]\n",
      "['virginica']\n",
      "0.9736842105263158\n"
     ]
    }
   ],
   "source": [
    "from sklearn.model_selection import train_test_split\n",
    "from sklearn.neighbors import KNeighborsClassifier\n",
    "import numpy as np\n",
    "\n",
    "from sklearn.datasets import load_iris\n",
    "iris = load_iris()\n",
    "\n",
    "# Ziel: Den k-nächsten Nachbarwert ermittel um die gegebenen Werte einer Iris-Art zuzuordnen\n",
    "\n",
    "# Teilen des Datasets in training und test sets\n",
    "X_train, X_test, y_train, y_test = train_test_split(iris['data'], iris['target'], random_state=0)\n",
    "knn = KNeighborsClassifier(n_neighbors=1)\n",
    "\n",
    "knn.fit(X_train, y_train)\n",
    "\n",
    "# Werte der neuen Iris (aus der Aufgabe)\n",
    "X_new = np.array([[4.8, 2.5, 5.3, 2.4]])\n",
    "print(X_new.shape)\n",
    "\n",
    "# Die prediction Funktion gibt eine Schätzung zurück, welche Art von Iris den Werten am ähnlichsten ist\n",
    "prediction = knn.predict(X_new)\n",
    "print(prediction)\n",
    "\n",
    "# Der oben ausgegebene Wert wird dem target_namen, also der iris Art zugeordnet\n",
    "# Es zeigt das die in der Aufgabe gegebenen Werte wahrscheinlich eine iris virginica beschreiben\n",
    "print(iris['target_names'][prediction])\n",
    "\n",
    "# Score der ermittelten Schätzung. Dieser gibt an wie wahrscheinlich es ist das die Schätzung korrekt ist - 97% hier\n",
    "print(knn.score(X_test, y_test))"
   ]
  },
  {
   "cell_type": "markdown",
   "metadata": {},
   "source": [
    "## Antwort: Es handelt sich bei den gegebenen Werten zu 97% um eine Iris Virginica!"
   ]
  },
  {
   "cell_type": "code",
   "execution_count": null,
   "metadata": {},
   "outputs": [],
   "source": []
  }
 ],
 "metadata": {
  "kernelspec": {
   "display_name": "Python 3",
   "language": "python",
   "name": "python3"
  },
  "language_info": {
   "codemirror_mode": {
    "name": "ipython",
    "version": 3
   },
   "file_extension": ".py",
   "mimetype": "text/x-python",
   "name": "python",
   "nbconvert_exporter": "python",
   "pygments_lexer": "ipython3",
   "version": "3.7.6"
  }
 },
 "nbformat": 4,
 "nbformat_minor": 4
}
